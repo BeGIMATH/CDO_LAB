{
 "cells": [
  {
   "cell_type": "markdown",
   "metadata": {},
   "source": [
    "<div style=\"color: #ffffff; background-color: #2979ff; border-bottom: 5px solid #004ecb; padding: 5em;\">\n",
    "<b style=\"font-size: 30pt;\">Convex and Distributed Optimization Lab</b> <br> <br>\n",
    "<b style=\"font-size: 10pt; color: #bbdefb\">MSIAM — Université Grenoble Alpes — 2018/2019</b> <br>\n",
    "<b style=\"font-size: 10pt; color: #bbdefb\">Lecturers: Jérôme Malick, Yassine Laguel, Sélim Chraibi</b>\n",
    "</div>"
   ]
  },
  {
   "cell_type": "markdown",
   "metadata": {},
   "source": [
    "**Author(s): Begatim Bytyqi, Ilia Riabov , Ebba Ekblom"
   ]
  },
  {
   "cell_type": "code",
   "execution_count": 2,
   "metadata": {},
   "outputs": [
    {
     "name": "stdout",
     "output_type": "stream",
     "text": [
      "The autoreload extension is already loaded. To reload it, use:\n",
      "  %reload_ext autoreload\n"
     ]
    }
   ],
   "source": [
    "# Automatic reload of local libraries\n",
    "%load_ext autoreload\n",
    "%autoreload 2\n",
    "%reload_ext autoreload\n",
    "%matplotlib inline\n"
   ]
  },
  {
   "cell_type": "markdown",
   "metadata": {},
   "source": [
    ">**[I. Introduction](#I.-Introduction)**<br> \n",
    "**[II. The optimization problem](#II.-The-optimization-problem)**<br>\n",
    "**[III. Implementing the solvers](#III.-Implementing-the-solvers)**<br>\n",
    "&nbsp; &nbsp; &nbsp;[GD (Gradient descent)](#GD-(Gradient-descent))<br>\n",
    "&nbsp; &nbsp; &nbsp;[SGD (Stochastic Gradient Descent)](#SGD-(Stochastic-Gradient-Descent))<br>\n",
    "&nbsp; &nbsp; &nbsp;[SAGA (Stochastic Average Gradient \"Amélioré\")](#SAGA-(Stochastic-Average-Gradient-\"Amélioré\"))<br>\n",
    "&nbsp; &nbsp; &nbsp;[SVRG (Stochastic Variance Reduced Gradient)](#SVRG-(Stochastic-Variance-Reduced-Gradient))<br>\n",
    "&nbsp; &nbsp; &nbsp;[Comparison](#Comparison)<br>\n",
    "**[IV. Regularization](#IV.-Regularization)**<br>\n",
    "**[V. Further development](#V.-Further-development)**<br>"
   ]
  },
  {
   "cell_type": "markdown",
   "metadata": {},
   "source": [
    "In this lab, we will implement optimization algorithms that we have've studied in class and use them to fit a logistic regression classification model.\n",
    "\n",
    "First we will be implementing a simplified version of [`sklearn.linear_model.LogisticRegression`](https://scikit-learn.org/stable/modules/generated/sklearn.linear_model.LogisticRegression.html). \n",
    "\n",
    "Report in groups of 1 to 3 students. <br>\n",
    "**Due date:** Monday, January 6, 2019 (before midnight). <br>\n",
    "**Send to:** [cdo.grenoble@gmail.com](cdo.grenoble@gmail.com)"
   ]
  },
  {
   "cell_type": "markdown",
   "metadata": {},
   "source": [
    "<br>\n",
    "<div style=\"color: #ffffff; background-color: #2979ff; border-bottom: 5px solid #004ecb; padding: 2em;\"> \n",
    "<h1>I. Introduction</h1>\n",
    "</div>"
   ]
  },
  {
   "cell_type": "markdown",
   "metadata": {},
   "source": [
    "We consider the [Student Performance](http://archive.ics.uci.edu/ml/datasets/Student+Performance) dataset. This dataset contains student demographic, social, school-related features, how many classes they've missed, etc. \n",
    "\n",
    "The goal we give ourselves is to predict whether a student will pass (final grade > 12).\n",
    "\n",
    "We denote $A \\in \\mathcal{M}_{n,d}(\\mathbb{R})$ the feature matrix, containing $n$ samples with $d$ features, and $b \\in \\{-1,1\\}^n$ the label vector where $-1$ encodes `fail` and $1$ encodes `pass`.\n",
    "\n",
    "The data has already been preprocessed. You can check ```\\lib\\datasets.py``` if you're curious, otherwise, you can just use the following to load your dataset:"
   ]
  },
  {
   "cell_type": "code",
   "execution_count": 3,
   "metadata": {},
   "outputs": [],
   "source": [
    "from lib.datasets import load_student_data\n",
    "\n",
    "\n",
    "A_train, A_test, b_train, b_test = load_student_data('data/student-mat.csv', split=0.25)"
   ]
  },
  {
   "cell_type": "markdown",
   "metadata": {},
   "source": [
    "As mentioned previously, you're going to implement a simplified version of [`sklearn.linear_model.LogisticRegression`](https://scikit-learn.org/stable/modules/generated/sklearn.linear_model.LogisticRegression.html). So let's first see what the finished product should look like. "
   ]
  },
  {
   "cell_type": "markdown",
   "metadata": {},
   "source": [
    "<div style=\"background-color: #e1f5fe; border-left: 5px solid #2962ff; padding: 0.5em;\"> \n",
    "<b style=\"color: #2962ff;\">Question:</b>  \n",
    "    <ul>\n",
    "        <li> Import <a href=\"https://scikit-learn.org/stable/modules/generated/sklearn.linear_model.LogisticRegression.html\">sklearn.linear_model.LogisticRegression </a>. </li>\n",
    "        <li> Create an instance of sklearn's logistic regression classifiers with SAGA as its solver. </li>\n",
    "        <li> Fit the classifier on the training data and compute the score of the fitted model on the test set.</li>\n",
    "    </ul>\n",
    "</div>"
   ]
  },
  {
   "cell_type": "code",
   "execution_count": 4,
   "metadata": {},
   "outputs": [
    {
     "name": "stderr",
     "output_type": "stream",
     "text": [
      "/home/begi/anaconda3/lib/python3.7/site-packages/sklearn/linear_model/sag.py:337: ConvergenceWarning: The max_iter was reached which means the coef_ did not converge\n",
      "  \"the coef_ did not converge\", ConvergenceWarning)\n"
     ]
    },
    {
     "data": {
      "text/plain": [
       "0.9191919191919192"
      ]
     },
     "execution_count": 4,
     "metadata": {},
     "output_type": "execute_result"
    }
   ],
   "source": [
    "from sklearn.linear_model import LogisticRegression\n",
    "from sklearn.metrics import accuracy_score\n",
    "\n",
    "model = LogisticRegression(solver=\"sag\")\n",
    "\n",
    "model.fit(A_train,b_train)\n",
    "\n",
    "predictions = model.predict(A_test)\n",
    "\n",
    "accuracy_score(predictions,b_test)\n",
    "\n",
    "\n",
    "\n",
    "\n",
    "\n"
   ]
  },
  {
   "cell_type": "markdown",
   "metadata": {},
   "source": [
    "<br>\n",
    "<div style=\"color: #ffffff; background-color: #2979ff; border-bottom: 5px solid #004ecb; padding: 2em;\"> \n",
    "<h1>II. The optimization problem</h1>\n",
    "</div>"
   ]
  },
  {
   "cell_type": "markdown",
   "metadata": {},
   "source": [
    "Logistic regression consists in finding the parameter $x \\in \\mathbb{R}^d$ that best fits:\n",
    "$$\n",
    "b_i = \\begin{cases}\n",
    "\\phantom{-}1 \\ \\textrm{ if }\\ \\langle a_{i}, x\\rangle \\ge 0 \\\\\n",
    "-1 \\ \\textrm{ if }\\ \\langle a_{i}, x\\rangle < 0 \n",
    "\\end{cases}\n",
    "$$\n",
    "for all the samples $i$ of the training set (where $a_i$ is the $i^{th}$ line of $A$ and $b_i$ the $i^{th}$ element of $b$). To measure this fit, logistic regression chooses the following loss:\n",
    "\n",
    "$$\n",
    "\\textrm{LogisticLoss}(b_i, \\left\\langle a_{i}, x\\right\\rangle ) = \\log \\left(1+\\exp \\left(-b_{i}\\left\\langle a_{i}, x\\right\\rangle\\right)\\right) \n",
    "$$\n",
    "\n",
    "The corresponding optimization problem we will consider is the following:"
   ]
  },
  {
   "cell_type": "markdown",
   "metadata": {},
   "source": [
    "<div style=\"background-color: #eceff1; border-left: 0px solid #78909c; padding: 2em; border-radius: 5px;\"> \n",
    "\n",
    "Minimization of the empirical risk $f$ of the $L_2$-regularized logistic regression model, on the dataset $(A_{\\textrm{train}},b_{\\textrm{train}})$:\n",
    "\n",
    "$$\n",
    "\\begin{aligned}\n",
    "\\textrm{min}_{x\\in \\mathbb{R}^d} \\  f(x) \n",
    "\\ &= \\ \\textrm{min}_{x\\in \\mathbb{R}^d} \\ \\frac{1}{n_{\\textrm{train}}} \\sum_{i=1}^{n_{\\textrm{train}}} f_i(x) \\\\\n",
    "&= \\ \\textrm{min}_{x\\in \\mathbb{R}^d}\\frac{1}{n_{\\textrm{train}}} \\sum_{i=1}^{n_{\\textrm{train}}} \\textrm{LogisticLoss}(b_i, \\left\\langle a_{i}, x\\right\\rangle ) + \\frac{l_2}{2}\\|x\\|^{2}_2,  \n",
    "\\end{aligned}\n",
    "$$\n",
    "\n",
    "where $l_2 \\ge 0$ is the $L_2$ regularization coefficient.\n",
    "</div>"
   ]
  },
  {
   "cell_type": "markdown",
   "metadata": {},
   "source": [
    "To simplify the notation, we'll stop indexing $A$, $b$ and $n$ with \"$\\textrm{train}$\" in the following."
   ]
  },
  {
   "cell_type": "markdown",
   "metadata": {},
   "source": [
    "<div style=\"background-color: #e1f5fe; border-left: 5px solid #2962ff; padding: 0.5em;\"> \n",
    "<b style=\"color: #2962ff;\">Question:</b>  $f$ is $\\mu$-strongly convex.\n",
    "    <ul>\n",
    "        <li> Give a lower bound on $\\mu$. </li>\n",
    "        <li> Complete <b>TODO (1)</b> in <b>\\lib\\linear_model.py</b>.</li>\n",
    "    </ul>\n",
    "</div>"
   ]
  },
  {
   "cell_type": "markdown",
   "metadata": {},
   "source": [
    "> **Answer:**\n",
    "For function f to be $\\mu$ strongly convex,we should have that the function $ f - \\frac{\\mu}{2}\\|x\\|^2$ is convex, which means $\\frac{1}{m}\\sum_{i=1}^{m} f_i - \\frac{(\\mu - l_2)}{2} \\|x\\|^2$ to be convex and $\\mu - l_2  \\geq 0$. \n",
    "We prove that the functions $log(1 + e^{-x}$ and $\\|x\\|_2^2$ are convex:\n",
    "Consider the function $f(x) = log(1 + e^{-x})$, its first derivative is $f'(x) = \\frac{1}{1+e^x}$, and its second derivative is $f\"(x) = \\frac{e^x}{\\left(1 + e^x\\right)^2}$.\n",
    "Since $f\"(x) \\geq 0 $, $\\forall x$ we have that the function $f(x) = log(1 + e^{-x})$ is convex. THe conviexity of the funxtion $\\|x\\|_2^2$ follows from the convextiy of the function $x^2$ and $\\|x\\|$, as a composition of these two functions.  \n",
    "Since the functions $log(1 + e^{-x})$, and $\\|x\\|^2$ are convex, so is their linear combination, hence all what is left is the non-negativity condition which implies the lower bound on $\\mu$:\n",
    "     > $$\\mu \\geq l_2$$\n",
    ">"
   ]
  },
  {
   "cell_type": "markdown",
   "metadata": {},
   "source": [
    "<div style=\"background-color: #e1f5fe; border-left: 5px solid #2962ff; padding: 0.5em;\"> \n",
    "<b style=\"color: #2962ff;\">Question:</b>  Denote $\\lambda_{\\max}$ the largest eigenvalue of the real symmetric matrix $AA^T$.\n",
    "    <ul>\n",
    "        <li> Prove that $\\lambda_{\\max}(\\nabla^2 f_i) \\le \\lambda_{\\max}(\\frac{a_i a_i^T}{4} + l_2 I_d)$</li>\n",
    "        <li> Prove that $\\lambda_{\\max}(a_i a_i^T) \\le \\|a_i\\|^2_2$ </li>\n",
    "    </ul>\n",
    "</div>"
   ]
  },
  {
   "cell_type": "markdown",
   "metadata": {},
   "source": [
    "#### Quesiton 1\n",
    "> **Answer:**\n",
    "So $f_i$ is definet as $f_i := log(1 + exp(-b_i \\langle a_i, x\\rangle>)) + \\frac{l_2}{2} \\|x\\|_2^2$ from here its obvious that the gradient of this function is given by:\n",
    "\n",
    "$$\\nabla f_i = \\frac{-b_i a_i }{1 + e^{b_i \\langle a_i,x \\rangle}} + l_2 x$$\n",
    "\n",
    ">Since $b_i^2 = 1$, for the Hessian we get:\n",
    "$$ \\Delta f_i = \\frac{b_i^2 a_i a_i^T e^{b_i \\langle a_i, x \\rangle}}{\\left(1 + e^{b_i \\langle a_i, x \\rangle}\\right)^2} + l_2 I  = \\frac{a_i a_i^T e^{b_i \\langle a_i, x \\rangle}}{\\left(1 + e^{b_i \\langle a_i, x \\rangle}\\right)^2} + l_2 I \\leq \\frac{a_i a_i^T}{4} + l_2 I$$ \n",
    "The last equality is reasoned like follows:\n",
    "Since $b_i \\langle a_i , x_i\\rangle$ is always positive (from the definiton) we have that $e^{b_i \\langle a_i, x \\rangle} \\geq 1 $ .Hence since function the $x^2$ is an increasing funtion on $[0, +\\infty]$ we have that $\\left(1 + e^{b_i \\langle a_i ,x \\rangle} \\right)^2 \\geq 4$ so finally $\\frac{ e^{b_i \\langle a_i, x \\rangle}}{\\left(1 + e^{b_i \\langle a_i, x \\rangle}\\right)^2} \\leq \\frac{1}{4}$\n",
    "\n",
    ">We come back again to the inequality:\n",
    "$$\\nabla f_i = \\frac{-b_i a_i }{1 + e^{b_i \\langle a_i,x \\rangle}} + l_2 x$$\n",
    "By multiplying by left(right) with $x^T$($x$) where $x \\in \\mathrm{R}^n$ we get an equivalent inequality:\n",
    "$$x^T\\nabla f_i x \\leq x^T \\left(\\frac{a_i a_i^T}{4} + l_2 I_d\\right) x$$\n",
    "Which is equivalent to:\n",
    "> $$\\lambda_{\\max}(\\nabla^2 f_i) \\leq \\lambda_{\\max}(\\frac{a_i a_i^T}{4} + l_2 I_d)$$\n",
    "\n",
    "#### Question 2\n",
    "> **Answer:**\n",
    ">\n",
    ">Let $M = a_i a_i^T$, we would like to find the eigenvalues of $M$.\n",
    "From the definition of the eigenvalues of a matrix we have that for a vector $u$ there exists a $\\lambda$ for which we have $Mu = \\lambda u$ \n",
    "$$ a_i a_i^T u = \\lambda u \n",
    "\\Rightarrow a_i^T(a_i a_i^T)u = a_i^T\\lambda u$$ \n",
    "By using the asociative property we have that:\n",
    "$$a_i^Ta_i(a_i^T u) = \\lambda a_i^T u \\Rightarrow (\\|a_i\\|_2^2 - \\lambda)a_i^T u = 0$$From here we have that $\\lambda = \\|a_i\\|_2^2$ is an eigen value of the matrix $M$. We have to show that all other eigen values are zero. Supose that $a$ is the eigenvector corresponding to the founded eigenvalue. Then for every other eigenvector $b$ we have that $a^T b = 0$.\n",
    "Which gives us: $Mb = a a^T b = 0$ for every other eigenvector, its corresponded eigenvalue is zeros hence we have that $\\|a_i\\|_2^2$ is the maximal value of the matrix $M = a_i a_i^T$.Which proves part 2"
   ]
  },
  {
   "cell_type": "markdown",
   "metadata": {},
   "source": [
    "A consequence of these results is that the $f_i$s and $f$ are all $L$-smooth with $L \\le \\frac{\\max_i\\|a_i\\|^2_2}{4} + l_2$ and we can therefore use the following value in our implementation:\n",
    "```python\n",
    "L = 0.25 * max(np.linalg.norm(A,2,axis=1))**2 + self.l2\n",
    "```"
   ]
  },
  {
   "cell_type": "markdown",
   "metadata": {},
   "source": [
    "<br>\n",
    "<div style=\"color: #ffffff; background-color: #2979ff; border-bottom: 5px solid #004ecb; padding: 2em;\"> \n",
    "<h1>III. Implementing the solvers</h1>\n",
    "</div>"
   ]
  },
  {
   "cell_type": "markdown",
   "metadata": {},
   "source": [
    "To implement gradient methods, we need an oracle that will compute both batch gradients $\\nabla f$ and partial gradients $\\nabla f_i$."
   ]
  },
  {
   "cell_type": "markdown",
   "metadata": {},
   "source": [
    "<div style=\"background-color: #e1f5fe;  border-left: 5px solid #2962ff; padding: 0.5em;\"> \n",
    "<b style=\"color: #2962ff;\">Question:</b>  In the code below, $\\nabla f$ has already been implemented.\n",
    "    <ul>\n",
    "        <li> Complete <b>TODO (2)</b> bellow.</li>\n",
    "        <li> Add your code to <b>\\lib\\linear_model.py</b>.</li>\n",
    "    </ul>\n",
    "</div>"
   ]
  },
  {
   "cell_type": "code",
   "execution_count": 5,
   "metadata": {},
   "outputs": [],
   "source": [
    "def grad(x, i=None):\n",
    "            '''\n",
    "            Gradient of the objective function at x.\n",
    "            If no i is given, grad should return the batch gradient.\n",
    "            Otherwise, it should return the partial gradient associated the the datapoint (A[i], b[i]).\n",
    "            '''\n",
    "            output = np.zeros(len(x))\n",
    "            if i is None:  # return batch gradient\n",
    "                output = -b/(1 + np.exp(b*np.dot(A, x)))\n",
    "                output = sum(np.diag(output))/n @ A\n",
    "                output += self.l2*x\n",
    "\n",
    "            # return partial gradient associated the datapoint (A[i], b[i])\n",
    "            else:\n",
    "                output = A[i]/(1 + np.exp(b[i]*np.dot(A[i], x)))\n",
    "                output = -b[i]*output + self.l2*x\n",
    "            \n",
    "            return output"
   ]
  },
  {
   "cell_type": "markdown",
   "metadata": {},
   "source": [
    "# GD (Gradient descent) "
   ]
  },
  {
   "cell_type": "markdown",
   "metadata": {},
   "source": [
    "At iteration k of the GD algorithm, the following update is executed:\n",
    "\n",
    "$$\n",
    "x_{k+1} \\leftarrow x_{k} - \\gamma\\nabla f(x_k)\n",
    "$$"
   ]
  },
  {
   "cell_type": "markdown",
   "metadata": {},
   "source": [
    "<div style=\"background-color: #e1f5fe;  border-left: 5px solid #2962ff; padding: 0.5em;\"> \n",
    "<b style=\"color: #2962ff;\">Question:</b>  \n",
    "    <ul>\n",
    "        <li> What stepsize $\\gamma$ ensures the convergence of this algorithm and under what assumptions?</li>\n",
    "        <li> Complete <b>TODO (3)</b> and <b>TODO (4)</b></li>\n",
    "        <li> Add your code to <b>\\lib\\solvers.py</b>.</li>\n",
    "    </ul>\n",
    "</div>"
   ]
  },
  {
   "cell_type": "markdown",
   "metadata": {},
   "source": [
    "> **Answer:**\n",
    "\n",
    "> The algorithm converges if we assume that $f$ is convex, differentiable and $L$ smooth, and the stepsize $\\gamma$ statisfies $\\gamma \\leq \\frac{1}{L}$.In our case we chose $\\gamma = \\frac{1}{L}$. In this case we have a sublinear convergence.And if  $f$ is $\\mu$ strongly convex than the algorithm converges with a linear convergecence.\n",
    "\n",
    "\n"
   ]
  },
  {
   "cell_type": "code",
   "execution_count": 6,
   "metadata": {},
   "outputs": [],
   "source": [
    "def GD(x0, grad, prox, max_iter, n, L, mu):\n",
    "    '''\n",
    "    Parameters\n",
    "    ----------\n",
    "    x0: array, shape (nb_features,)\n",
    "        Initialisation of the solver\n",
    "    grad: function\n",
    "        Gradient of the objective function\n",
    "    max_iter: int\n",
    "        Number of iterations (i.e. number of descent steps). Note that for GD or SVRG,\n",
    "        one iteration is one epoch i.e, one pass through the data, while for SGD, SAG and SAGA,\n",
    "        one iteration uses only one data point.\n",
    "    n: int\n",
    "        Dataset size\n",
    "    L: float\n",
    "        Smoothness constant of the objective function\n",
    "    mu: float\n",
    "        Strong convexity constant of the objective function\n",
    "\n",
    "    Returns\n",
    "    -------\n",
    "    x: array, shape (nb_features,)\n",
    "        final iterate of the solver\n",
    "    x_tab: array, shape (nb_features, max_iter)\n",
    "        table of all the iterates\n",
    "    '''\n",
    "    stepsize = 1.0 / L\n",
    "    x = x0\n",
    "    x_tab = np.copy(x)\n",
    "\n",
    "    for k in range(max_iter):\n",
    "        x = x - stepsize*grad(x)\n",
    "        x_tab = np.vstack((x_tab, x))\n",
    "    return x, x_tab\n"
   ]
  },
  {
   "cell_type": "markdown",
   "metadata": {},
   "source": [
    "<div style=\"background-color: #e1f5fe;  border-left: 5px solid #2962ff; padding: 0.5em;\"> \n",
    "<b style=\"color: #2962ff;\">Question:</b> Run the code below to test your code.\n",
    "</div>"
   ]
  },
  {
   "cell_type": "code",
   "execution_count": 7,
   "metadata": {},
   "outputs": [
    {
     "data": {
      "image/png": "[encoded data removed]",
      "text/plain": [
       "<Figure size 1440x720 with 1 Axes>"
      ]
     },
     "metadata": {},
     "output_type": "display_data"
    }
   ],
   "source": [
    "from lib.linear_model import LogisticRegression\n",
    "from lib.visuals import learning_curve\n",
    "clf_gd = LogisticRegression(solver='gd',l2=0.01, max_iter=1000)\n",
    "clf_gd.fit(A_train, b_train)\n",
    "\n",
    "learning_curve(GD=clf_gd)"
   ]
  },
  {
   "cell_type": "markdown",
   "metadata": {},
   "source": [
    "# SGD (Stochastic Gradient Descent)"
   ]
  },
  {
   "cell_type": "markdown",
   "metadata": {},
   "source": [
    "At iteration k of the SGD algorithm, the following update is executed:\n",
    "\n",
    "$$\n",
    "\\begin{cases}\n",
    "i \\textrm{ chosen randomly in } \\{1...n\\}\\\\\n",
    "x_{k+1} \\leftarrow x_{k} - \\gamma_k \\nabla f_i(x_k) \\\\\n",
    "\\end{cases}\n",
    "$$"
   ]
  },
  {
   "cell_type": "markdown",
   "metadata": {},
   "source": [
    "<div style=\"background-color: #e1f5fe;  border-left: 5px solid #2962ff; padding: 0.5em;\"> \n",
    "<b style=\"color: #2962ff;\">Question:</b>  \n",
    "    <ul>\n",
    "        <li> What stepsize $\\gamma_k$ ensures the convergence of this algorithm and under what assumptions?</li>\n",
    "        <li> Complete <b>TODO (5)</b></li>\n",
    "        <li> Add your code to <b>\\lib\\solvers.py</b>.</li>\n",
    "    </ul>\n",
    "</div>"
   ]
  },
  {
   "cell_type": "markdown",
   "metadata": {},
   "source": [
    "> **Answer:**\n",
    "\n",
    "> The algorithm converges if we assume that $f$ is $\\mu$ strongly convex, differentiable and $L$ smooth, and the stepsize $\\gamma$ statisfies $\\gamma \\leq \\frac{1}{k^\\alpha}$ Where $\\alpha \\approx 0.6$. Converges with a sublinear convergence.\n"
   ]
  },
  {
   "cell_type": "code",
   "execution_count": 8,
   "metadata": {},
   "outputs": [],
   "source": [
    "def SGD(x0, grad, prox, max_iter, n, L, mu):\n",
    "    '''\n",
    "    Parameters\n",
    "    ----------\n",
    "    x0: array, shape (nb_features,)\n",
    "        Initialisation of the solver\n",
    "    grad: function\n",
    "        Gradient of the objective function\n",
    "    max_iter: int\n",
    "        Number of iterations (i.e. number of descent steps). Note that for GD or SVRG,\n",
    "        one iteration is one epoch i.e, one pass through the data, while for SGD, SAG and SAGA,\n",
    "        one iteration uses only one data point.\n",
    "    n: int\n",
    "        Dataset size\n",
    "    L: float\n",
    "        Smoothness constant of the objective function\n",
    "    mu: float\n",
    "        Strong convexity constant of the objective function\n",
    "\n",
    "    Returns\n",
    "    -------\n",
    "    x: array, shape (nb_features,)\n",
    "        final iterate of the solver after going through n data points\n",
    "    x_tab: array, shape (nb_features, max_iter)\n",
    "        table of all the iterates\n",
    "    '''\n",
    "    \n",
    "    x = np.copy(x0)\n",
    "    x_tab = np.copy(x)\n",
    "    for k in range(max_iter):\n",
    "        t = random.randrange(1, n)\n",
    "        step = 1/(pow(k+1, 0.6))\n",
    "        x = x - step*grad(x, t)\n",
    "        if k % n == 0:  # each completed epoch\n",
    "            x_tab = np.vstack((x_tab, x))\n",
    "\n",
    "    return x, x_tab"
   ]
  },
  {
   "cell_type": "markdown",
   "metadata": {},
   "source": [
    "<div style=\"background-color: #e1f5fe;  border-left: 5px solid #2962ff; padding: 0.5em;\"> \n",
    "<b style=\"color: #2962ff;\">Question:</b> Run the code below to test your code.\n",
    "</div>"
   ]
  },
  {
   "cell_type": "code",
   "execution_count": 9,
   "metadata": {},
   "outputs": [
    {
     "data": {
      "image/png": "[encoded data removed]",
      "text/plain": [
       "<Figure size 1440x720 with 1 Axes>"
      ]
     },
     "metadata": {},
     "output_type": "display_data"
    }
   ],
   "source": [
    "clf_sgd = LogisticRegression(solver='sgd',l2=0.01,max_iter=100*len(b_train))\n",
    "clf_sgd.fit(A_train, b_train)\n",
    "\n",
    "learning_curve(SGD=clf_sgd)"
   ]
  },
  {
   "cell_type": "markdown",
   "metadata": {},
   "source": [
    "# SAGA (Stochastic Average Gradient \"Amélioré\")"
   ]
  },
  {
   "cell_type": "markdown",
   "metadata": {},
   "source": [
    "SAGA starts by computing a single batch gradient, then at iteration k, the following update is executed:\n",
    "\n",
    "1. Pick a j uniformly at random.\n",
    "2. Take $\\phi_{j}^{k+1}=x^{k},$ and store $f_{j}^{\\prime}\\left(\\phi_{j}^{k+1}\\right)$ in the table. All other entries in the table remain unchanged. The quantity $\\phi_{j}^{k+1}$ is not explicitly stored.\n",
    "3. Update $x$ using $f_{j}^{\\prime}\\left(\\phi_{j}^{k+1}\\right), f_{j}^{\\prime}\\left(\\phi_{j}^{k}\\right)$ and the table average:\n",
    "\n",
    "\\begin{array}{c}\n",
    "x^{k+1}=x^{k}-\\gamma\\left[f_{j}^{\\prime}\\left(\\phi_{j}^{k+1}\\right)-f_{j}^{\\prime}\\left(\\phi_{j}^{k}\\right)+\\frac{1}{n} \\sum_{i=1}^{n} f_{i}^{\\prime}\\left(\\phi_{i}^{k}\\right)\\right]\n",
    "\\end{array}\n",
    "\n",
    "\n"
   ]
  },
  {
   "cell_type": "markdown",
   "metadata": {},
   "source": [
    "<div style=\"background-color: #e1f5fe;  border-left: 5px solid #2962ff; padding: 0.5em;\"> \n",
    "<b style=\"color: #2962ff;\">Question:</b>  \n",
    "    <ul>\n",
    "        <li> What stepsize $\\gamma_k$ ensures the convergence of this algorithm and under what assumptions?</li>\n",
    "        <li> Complete <b>TODO (6)</b></li>\n",
    "        <li> Add your code to <b>\\lib\\solvers.py</b>.</li>\n",
    "    </ul>\n",
    "</div>"
   ]
  },
  {
   "cell_type": "markdown",
   "metadata": {},
   "source": [
    "> **Answer:**\n",
    "If $f$ is  $\\mu$ strongly convex, differentiable and $L$ smooth, \n",
    "and for the stepsize $\\gamma = \\frac{1}{2(\\mu n + L)}$, then the algorithm converges with the following convergence rate $$\n",
    "\\mathbb{E}\\left\\|x^{k}-x^{*}\\right\\|^{2} \\leq\\left(1-\\frac{\\mu}{2(\\mu n+L)}\\right)^{k}\\left[\\left\\|x^{0}-x^{*}\\right\\|^{2}+\\frac{n}{\\mu n+L}\\left[f\\left(x^{0}\\right)-\\left\\langle f^{\\prime}\\left(x^{*}\\right), x^{0}-x^{*}\\right\\rangle- f\\left(x^{*}\\right)\\right]\\right]\n",
    "$$"
   ]
  },
  {
   "cell_type": "code",
   "execution_count": 11,
   "metadata": {},
   "outputs": [
    {
     "ename": "IndentationError",
     "evalue": "unindent does not match any outer indentation level (<tokenize>, line 48)",
     "output_type": "error",
     "traceback": [
      "\u001b[0;36m  File \u001b[0;32m\"<tokenize>\"\u001b[0;36m, line \u001b[0;32m48\u001b[0m\n\u001b[0;31m    return x, x_tab\u001b[0m\n\u001b[0m    ^\u001b[0m\n\u001b[0;31mIndentationError\u001b[0m\u001b[0;31m:\u001b[0m unindent does not match any outer indentation level\n"
     ]
    }
   ],
   "source": [
    "def SAGA(x0, grad, prox, max_iter, n, L, mu):\n",
    "    '''\n",
    "    Parameters\n",
    "    ----------\n",
    "    x0: array, shape (nb_features,)\n",
    "        Initialisation of the solver\n",
    "    grad: function\n",
    "        Gradient of the objective function\n",
    "    max_iter: int\n",
    "        Number of iterations (i.e. number of descent steps). Note that for GD or SVRG,\n",
    "        one iteration is one epoch i.e, one pass through the data, while for SGD, SAG and SAGA,\n",
    "        one iteration uses only one data point.\n",
    "    n: int\n",
    "        Dataset size\n",
    "    L: float\n",
    "        Smoothness constant of the objective function\n",
    "    mu: float\n",
    "        Strong convexity constant of the objective function\n",
    "\n",
    "    Returns\n",
    "    -------\n",
    "    x: array, shape (nb_features,)\n",
    "        final iterate of the solver after going through n data points\n",
    "    x_tab: array, shape (nb_features, max_iter)\n",
    "        table of all the iterates\n",
    "    '''\n",
    "    x = np.copy(x0)\n",
    "    x_tab = np.copy(x)\n",
    "    d = len(x)\n",
    "\n",
    "    A = np.zeros([n, d])\n",
    "    for i in range(n):\n",
    "        A[i, :] = grad(x, i)\n",
    "\n",
    "    step = 1 / (2*(mu*n + L))\n",
    "    for k in range(max_iter):\n",
    "        xprev = np.copy(x)\n",
    "\n",
    "        j = random.randrange(1, n)\n",
    "        f_grad_phi_k = A[j, :]\n",
    "        alfa_bar = A.mean(0)\n",
    "        A[j, :] = grad(x, j)\n",
    "        x = x - step*(A[j, :] - f_grad_phi_k + alfa_bar)\n",
    "\n",
    "        if (k % n == 0):  # each completed epoch-n\n",
    "            x_tab = np.vstack((x_tab, x))\n",
    "    \n",
    "     return x, x_tab\n"
   ]
  },
  {
   "cell_type": "markdown",
   "metadata": {},
   "source": [
    "<div style=\"background-color: #e1f5fe;  border-left: 5px solid #2962ff; padding: 0.5em;\"> \n",
    "<b style=\"color: #2962ff;\">Question:</b> Run the code below to test your code.\n",
    "</div>"
   ]
  },
  {
   "cell_type": "code",
   "execution_count": null,
   "metadata": {},
   "outputs": [],
   "source": [
    "clf_saga = LogisticRegression(solver='saga', l2=0.01,max_iter=30*len(b_train))\n",
    "clf_saga.fit(A_train, b_train)\n",
    "\n",
    "learning_curve(SAGA=clf_saga)\n",
    "\n",
    "\n"
   ]
  },
  {
   "cell_type": "markdown",
   "metadata": {},
   "source": [
    "# SVRG (Stochastic Variance Reduced Gradient)"
   ]
  },
  {
   "cell_type": "markdown",
   "metadata": {},
   "source": [
    "At iteration k of the SVRG algorithm, we perform the following:\n",
    "\n",
    "$$\n",
    "\\begin{cases}\n",
    "\\textrm{Compute the batch gradient } \\nabla f(x_k)\\\\\n",
    "\\textrm{Initialise }y_0 = x_k\\\\\n",
    "\\textrm{for m in 0...M-1: } \n",
    "\\begin{cases}\n",
    "i \\textrm{ chosen randomly in } \\{1...n\\} \\\\\n",
    "y_{m+1} \\leftarrow y_{m} - \\gamma_k\\big(\\nabla f_i(y_m) - \\nabla f_i(x_k) + \\nabla f(x_k)) \n",
    "\\end{cases}\\\\\n",
    "x_{k+1} \\leftarrow y_{M}\n",
    "\\end{cases}\n",
    "$$"
   ]
  },
  {
   "cell_type": "markdown",
   "metadata": {},
   "source": [
    "<div style=\"background-color: #e1f5fe;  border-left: 5px solid #2962ff; padding: 0.5em;\"> \n",
    "<b style=\"color: #2962ff;\">Question:</b>  \n",
    "    <ul>\n",
    "        <li> What stepsize $\\gamma_k$ ensures the convergence of this algorithm and under what assumptions?</li>\n",
    "        <li> Complete <b>TODO (7)</b></li>\n",
    "        <li> Add your code to <b>\\lib\\solvers.py</b>.</li>\n",
    "    </ul>\n",
    "</div>"
   ]
  },
  {
   "cell_type": "markdown",
   "metadata": {},
   "source": [
    "> **Answer:**\n",
    "We assume that $f_i$ are $L$ smooth and convex, and the function $f$ is $\\mu$ strongly convex then as long as we pick $\\gamma_k \\leq \\frac{1}{L}$ we have linear convergence of rate $\\mathrm{O}((1 - \\frac{\\mu}{L})^t)$"
   ]
  },
  {
   "cell_type": "code",
   "execution_count": null,
   "metadata": {},
   "outputs": [],
   "source": [
    "def SVRG(x0, grad, max_iter, n, L, mu):\n",
    "    '''\n",
    "    Parameters\n",
    "    ----------\n",
    "    x0: array, shape (nb_features,)\n",
    "        Initialisation of the solver\n",
    "    grad: function\n",
    "        Gradient of the objective function\n",
    "    max_iter: int\n",
    "        Number of iterations (i.e. number of descent steps). Note that for GD or SVRG,\n",
    "        one iteration is one epoch i.e, one pass through the data, while for SGD, SAG and SAGA,\n",
    "        one iteration uses only one data point.\n",
    "    n: int\n",
    "        Dataset size\n",
    "    L: float\n",
    "        Smoothness constant of the objective function\n",
    "    mu: float\n",
    "        Strong convexity constant of the objective function\n",
    "\n",
    "    Returns\n",
    "    -------\n",
    "    x: array, shape (nb_features,)\n",
    "        final iterate of the solver\n",
    "    x_tab: array, shape (nb_features, max_iter)\n",
    "        table of all the iterates\n",
    "    '''\n",
    "    x = np.copy(x0)\n",
    "    x_tab = np.copy(x)\n",
    "    d = len(x)\n",
    "    step =  1/(3*(mu*n+L))\n",
    "    for k in range(max_iter):\n",
    "        \n",
    "        G = grad(x)\n",
    "        y = x\n",
    "\n",
    "        for i in range(2):\n",
    "            e = random.randrange(1, n)\n",
    "            g = grad(y, e)-grad(x, e)+G\n",
    "            y = y-step*g\n",
    "        x = y\n",
    "        x_tab = np.vstack((x_tab, x))\n",
    "    return x, x_tab"
   ]
  },
  {
   "cell_type": "markdown",
   "metadata": {},
   "source": [
    "<div style=\"background-color: #e1f5fe;  border-left: 5px solid #2962ff; padding: 0.5em;\"> \n",
    "<b style=\"color: #2962ff;\">Question:</b> Run the code below to test your code.\n",
    "</div>"
   ]
  },
  {
   "cell_type": "code",
   "execution_count": null,
   "metadata": {},
   "outputs": [],
   "source": [
    "clf_svrg = LogisticRegression(solver='svrg',l2=0.01, max_iter=5000)\n",
    "clf_svrg.fit(A_train, b_train)\n",
    "\n",
    "learning_curve(SVRG=clf_svrg)\n"
   ]
  },
  {
   "cell_type": "markdown",
   "metadata": {},
   "source": [
    "# Comparison"
   ]
  },
  {
   "cell_type": "markdown",
   "metadata": {},
   "source": [
    "<div style=\"background-color: #e1f5fe;  border-left: 5px solid #2962ff; padding: 0.5em;\"> \n",
    "<b style=\"color: #2962ff;\">Question:</b> Run the code below to compare all the methods you've implemented.\n",
    "</div>"
   ]
  },
  {
   "cell_type": "code",
   "execution_count": null,
   "metadata": {},
   "outputs": [],
   "source": [
    "epochs = 100\n",
    "n = len(b_train)\n",
    "\n",
    "\n",
    "clf_gd   = LogisticRegression(solver='gd',l2=0.01, max_iter=epochs)\n",
    "#clf_gd_prox = LogisticRegression(solver='gd_prox',l1=0.01,l2=0.01,max_iter=epochs)\n",
    "clf_sgd  = LogisticRegression(solver='sgd',l2=0.01, max_iter=n*epochs)\n",
    "#clf_sgd_prox = LogisticRegression(solver='sgd_prox',l1=0.01, l2=0.01, max_iter=n*epochs)\n",
    "clf_saga = LogisticRegression(solver='saga',l2=0.01, max_iter=n*epochs)\n",
    "#clf_saga_prox = LogisticRegression(solver='saga_prox',l1=0.01,l2=0.01,max_iter=n*epochs)\n",
    "clf_svrg = LogisticRegression(solver='svrg',l2=0.01, max_iter=epochs)\n",
    "#clf_svrg_prox = LogisticRegression(solver='svrg_prox',l1=0.01, l2=0.01, max_iter=epochs)\n",
    "\n",
    "\n",
    "clf_gd.fit(A_train, b_train)\n",
    "#clf_gd_prox.fit(A_train, b_train)\n",
    "clf_sgd.fit(A_train, b_train)\n",
    "#clf_sgd_prox.fit(A_train,b_train)\n",
    "clf_saga.fit(A_train, b_train)\n",
    "#clf_saga_prox.fit(A_train,b_train)\n",
    "clf_svrg.fit(A_train, b_train)\n",
    "#clf_svrg_prox.fit(A_train, b_train)"
   ]
  },
  {
   "cell_type": "code",
   "execution_count": null,
   "metadata": {},
   "outputs": [],
   "source": [
    "learning_curve(GD=clf_gd, SGD=clf_sgd, SAGA=clf_saga, SVRG=clf_svrg)\n",
    "\n",
    "for clf, name in zip([clf_gd, clf_sgd, clf_saga, clf_svrg], ['gd', 'sgd','saga', 'svrg']):\n",
    "    print(name + ':' \\\n",
    "          + \"\\tAccuracy on training set: {0:0.1f}%\".format(100*clf.score(A_train, b_train)))\n",
    "    print(\"\\tAccuracy on testing set:  {0:0.1f}%\".format(100*clf.score(A_test, b_test)))"
   ]
  },
  {
   "cell_type": "markdown",
   "metadata": {},
   "source": [
    "<br>\n",
    "<div style=\"color: #ffffff; background-color: #2979ff; border-bottom: 5px solid #004ecb; padding: 2em;\"> \n",
    "<h1>IV. Regularization</h1>\n",
    "</div>"
   ]
  },
  {
   "cell_type": "markdown",
   "metadata": {},
   "source": [
    "<div style=\"background-color: #e1f5fe;  border-left: 5px solid #2962ff; padding: 0.5em;\"> \n",
    "<b style=\"color: #2962ff;\">Question:</b> \n",
    "    <ul>\n",
    "        <li> Rewrite the empirical risk minimization objective with both $L_1$ and $L_2$ regularization (with coefficients $l_1$ and $l_2$).</li>\n",
    "        <li> Is this objective $\\mu$-strongly convex, $L$-smooth, differentiable?</i>\n",
    "        <li> Complete the <b>TODO (8)</b> to account for the new term in the objective.</i>\n",
    "        <li> Add your code to <b>lib/linear_model.py</b>.</i>\n",
    "    </ul>\n",
    "</div>"
   ]
  },
  {
   "cell_type": "markdown",
   "metadata": {},
   "source": [
    "<div style=\"background-color: #eceff1; border-left: 0px solid #78909c; padding: 2em; border-radius: 5px;\"> \n",
    "Answer:\n",
    "\n",
    "Minimization of the empirical risk $f$ of the $L_2$-regularized logistic regression model, on the dataset \n",
    "$(A_{\\textrm{train}},b_{\\textrm{train}})$:\n",
    "\n",
    "$$\n",
    "\\begin{aligned}\n",
    "\\textrm{min}_{x\\in \\mathbb{R}^d} \\  f(x) \n",
    "\\ &= \\ \\textrm{min}_{x\\in \\mathbb{R}^d} \\ \\frac{1}{n_{\\textrm{train}}} \\sum_{i=1}^{n_{\\textrm{train}}} f_i(x) \\\\\n",
    "&= \\ \\textrm{min}_{x\\in \\mathbb{R}^d}\\underbrace{\\frac{1}{n_{\\textrm{train}}} \\sum_{i=1}^{n_{\\textrm{train}}} \\textrm{LogisticLoss}(b_i, \\left\\langle a_{i}, x\\right\\rangle ) + \\frac{l_2}{2}\\|x\\|^{2}_2}_{f(x)} + \\underbrace{l_1 \\|x\\|_1}_{g(x)}  \n",
    "\\end{aligned}\n",
    "$$\n",
    "\n",
    "where $l_2,l_1 \\ge 0$ are the $L_2$ and $L_1$ regularization coefficients respectively.\n",
    "\n",
    "</div>"
   ]
  },
  {
   "cell_type": "markdown",
   "metadata": {},
   "source": [
    "This function, is and non-differentiable and strongly convex. So the question is why we should add the $l_1$ regularizer when we loose good properties like $L$ smoothnes and differentiability.\n",
    "In fact the $l_1$ regularizer will improve the convergency rate because it promotes sparsity over the iterates. But how to use now gradient descent, when the function does not have L-smoothness and differentiability? Actually what  we do here is that we split our function on two parts, the \"good one\" which we name it $\\textbf{f}$ and the \"bad one\" which we name it $\\textbf{g}$. We perform the usual algorithm on the good one which has the nice properties, and  then for the bad one we use the proximal operator which is a generalization of the gradient. "
   ]
  },
  {
   "cell_type": "markdown",
   "metadata": {},
   "source": [
    "```python\n",
    "self._empirical_risk = lambda x: sum(self._logistic_loss(A, b, x))/n \\\n",
    "                                 + self.l2/2.0 * np.linalg.norm(x,2) \\\n",
    "                                 + self.l1 * np.linalg.norm(x,1)\n",
    "```\n"
   ]
  },
  {
   "cell_type": "markdown",
   "metadata": {},
   "source": [
    "#### Definition.  \n",
    "The proximal mapping or the proximal operator for a convex function $h$ is defined as :\n",
    " $$\n",
    "\\operatorname{prox}_{h}(x)=\\underset{u}{\\operatorname{argmin}}\\left(h(u)+\\frac{1}{2}\\|u-x\\|_{2}^{2}\\right)\n",
    "$$\n",
    "\n",
    "#### Examples\n",
    "<ul>\n",
    "    <li> $h(x) = 0$ : $\\operatorname{prox}_{h}(x) = x$ </li>\n",
    "    <li> $h(x) = \\textrm{I}_{C}(x)$ : $\\operatorname{prox}_{h}(x)$ is the projection on the set $C$,\n",
    "        $$\\operatorname{prox}_{h}(x)=P_{C}(x)=\\underset{u \\in C}{\\operatorname{argmin}}\\|u-x\\|_{2}^{2}$$ </li>\n",
    "    <li> $h(x) = t \\|x\\|_1$ : $\\operatorname{prox}_{h}(x)$ is shrinkage (soft threshold) operation \n",
    "        $$\n",
    "\\operatorname{prox}_{h}(x)_{i}=\\left\\{\\begin{array}{ll}\n",
    "{x_{i}-t} & {x_{i} \\geq t} \\\\\n",
    "{0} & {\\left|x_{i}\\right| \\leq t} \\\\\n",
    "{x_{i}+t} & {x_{i} \\leq-t}\n",
    "\\end{array}\\right.\n",
    "$$ </li>\n",
    "</ul>\n"
   ]
  },
  {
   "cell_type": "markdown",
   "metadata": {},
   "source": [
    "<div style=\"background-color: #e1f5fe;  border-left: 5px solid #2962ff; padding: 0.5em;\"> \n",
    "<b style=\"color: #2962ff;\">Question:</b> Using the $\\textrm{prox}_{l_1 \\|\\cdot\\|_1}$ operator, write down the $k^{th}$ step of proximal GD, proximal SGD, proximal SAGA, and proximal SVRG.\n",
    "</div>"
   ]
  },
  {
   "cell_type": "markdown",
   "metadata": {},
   "source": [
    "> **Answer:**\n",
    "\n",
    "> Proximal GD : $$\n",
    "x^{(k)}=\\operatorname{prox}_{t_{k} g}\\left(x^{(k-1)}-t_{k} \\nabla f\\left(x^{(k-1)}\\right)\\right)\n",
    "$$\n",
    "\n",
    "> Proximal SGD : \n",
    "$$\n",
    "\\begin{cases}\n",
    "i \\textrm{ chosen randomly in } \\{1...n\\}\\\\\n",
    "x_{k+1} \\leftarrow \\operatorname{prox}_{t_{k} h}\\left(x^{(k-1)}-t_{k} \\nabla f_i\\left(x^{(k-1)}\\right)\\right) \\\\\n",
    "\\end{cases}\n",
    "$$\n",
    "\n",
    "> Proximal SAGA : $$\n",
    "\\begin{cases}\n",
    "i \\textrm{ chosen randomly in } \\{1...n\\}\\\\\n",
    "x_{k+1} \\leftarrow x_{k} - \\gamma_k\\big(\\nabla f_i(x_k) - \\alpha_i + \\bar{\\alpha}\\big) \\\\\n",
    "\\alpha_i \\leftarrow \\nabla f_i(x_{k+1}) \n",
    "\\end{cases}\n",
    "$$\n",
    ">Proximal SVRG"
   ]
  },
  {
   "cell_type": "markdown",
   "metadata": {},
   "source": [
    "<div style=\"background-color: #e1f5fe;  border-left: 5px solid #2962ff; padding: 0.5em;\"> \n",
    "<b style=\"color: #2962ff;\">Question:</b> \n",
    "    <ul>\n",
    "        <li> Give a closed-form expression of $\\textrm{prox}_{l_1 \\|\\cdot\\|_1}$</li>\n",
    "        <li> Complete <b>TODO (9)</b> (note that you can access the $l_1$ coefficient using <b>self.l1</b>).</li>\n",
    "        <li> Add your code to <b>\\lib\\linear_model.py</b>.</li>\n",
    "    </ul>\n",
    "</div>"
   ]
  },
  {
   "cell_type": "markdown",
   "metadata": {},
   "source": [
    "> **Answer:**\n",
    "> Let $g = l_1 \\|x\\|_1$ and $\\gamma$ the stepsize of the algorithm.\n",
    "$$\n",
    "\\operatorname{prox}_{\\gamma g}(x)_{i}=\\left\\{\\begin{array}{ll}\n",
    "{x_{i}-t} & {x_{i} > l_1 \\gamma} \\\\\n",
    "{0} & {\\left|x_{i}\\right| \\leq l_1 \\gamma} \\\\\n",
    "{x_{i}+t} & {x_{i} <-l_1 \\gamma}\n",
    "\\end{array}\\right.\n",
    "$$"
   ]
  },
  {
   "cell_type": "code",
   "execution_count": null,
   "metadata": {},
   "outputs": [],
   "source": [
    "def prox(x,stepsize):\n",
    "    p = np.zeros(n)\n",
    "    for i in range(n):\n",
    "        if x[i] < - self.l1*stepsize:\n",
    "            p[i] = x[i] + self.l1*stepsize\n",
    "        if x[i] > self.l1*stepsize:\n",
    "            p[i] = x[i] - self.l1*stepsize\n",
    "    return p"
   ]
  },
  {
   "cell_type": "markdown",
   "metadata": {},
   "source": [
    "<div style=\"background-color: #e1f5fe;  border-left: 5px solid #2962ff; padding: 0.5em;\"> \n",
    "<b style=\"color: #2962ff;\">Question:</b> \n",
    "    <ul>\n",
    "        <li> Add <b>prox</b> to the attributes of the solvers (both in the call to <b>self.solver</b> in <b>/lib/linear_model.py</b> and in <b>/lib/solvers.py</b>) as follows: <br> solver(x0, grad, <b>prox</b>, self.max_iter, n, L, mu)</li>\n",
    "        <li> Add a proximal step to all the algorithms in <b>/lib/solvers.py</b>. </li>\n",
    "        <li> Paste one of these algorithms in the cell bellow.</li>\n",
    "    </ul>\n",
    "</div>"
   ]
  },
  {
   "cell_type": "code",
   "execution_count": null,
   "metadata": {},
   "outputs": [],
   "source": [
    "def GD_prox(x0, grad, prox, max_iter, n, L, mu):\n",
    "    stepsize = 1.0 / L\n",
    "    x = x0\n",
    "    x_tab = np.copy(x)\n",
    "\n",
    "    for k in range(max_iter):\n",
    "        x = prox(x - stepsize*grad(x), stepsize)\n",
    "        x_tab = np.vstack((x_tab, x))\n",
    "    return x, x_tab\n"
   ]
  },
  {
   "cell_type": "markdown",
   "metadata": {},
   "source": [
    "<div style=\"background-color: #e1f5fe;  border-left: 5px solid #2962ff; padding: 0.5em;\"> \n",
    "<b style=\"color: #2962ff;\">Question:</b> If your proximal gradient descent is correctly implemented, the following cell will plot the support of the solution for various values of $l_1$.\n",
    "    <ul>\n",
    "        <li> Interpret the plot and explain what can $L_1$ regularization be used for.</li>\n",
    "    </ul>\n",
    "</div>"
   ]
  },
  {
   "cell_type": "markdown",
   "metadata": {},
   "source": [
    "> **Answer:**\n",
    "> As we mentioned before adding the $L_1$ regularization, promotes the sparsity of the iterates, this way we improve our convergency rate."
   ]
  },
  {
   "cell_type": "code",
   "execution_count": null,
   "metadata": {},
   "outputs": [],
   "source": [
    "from lib.visuals import l1_regularization_plot\n",
    "\n",
    "clf = lambda l1: LogisticRegression(solver='saga_prox', l1=l1, l2=0.1, max_iter=1000)\n",
    "\n",
    "l1_regularization_plot(clf, A_train, b_train)"
   ]
  },
  {
   "cell_type": "markdown",
   "metadata": {},
   "source": [
    "<div style=\"background-color: #e1f5fe;  border-left: 5px solid #2962ff; padding: 0.5em;\"> \n",
    "<b style=\"color: #2962ff;\">Question:</b> The following cell will plot the value of the coordinates of the solution for various values of $l_2$.\n",
    "    <ul>\n",
    "        <li> Interpret the plot and explain what can $L_2$ regularization be used for.</li>\n",
    "    </ul>\n",
    "</div>"
   ]
  },
  {
   "cell_type": "markdown",
   "metadata": {},
   "source": [
    "> **Answer:**\n"
   ]
  },
  {
   "cell_type": "code",
   "execution_count": null,
   "metadata": {},
   "outputs": [],
   "source": [
    "from lib.visuals import l2_regularization_plot\n",
    "\n",
    "clf = lambda l2: LogisticRegression(solver='gd', l1=0.01, l2=l2, max_iter=1000)\n",
    "\n",
    "l2_regularization_plot(clf, A_train, b_train)"
   ]
  },
  {
   "cell_type": "markdown",
   "metadata": {},
   "source": [
    "<br>\n",
    "<div style=\"color: #ffffff; background-color: #2979ff; border-bottom: 5px solid #004ecb; padding: 2em;\"> \n",
    "<h1>V. Further development</h1>\n",
    "</div>"
   ]
  },
  {
   "cell_type": "markdown",
   "metadata": {},
   "source": [
    "On this section we will try to prove the convergence of the algorithms we have implemented."
   ]
  },
  {
   "cell_type": "markdown",
   "metadata": {},
   "source": [
    "**Proof of convergence of Gradient Descent Algorithm.**\n",
    "\n",
    "$\\textbf{Definition}$ We say tha $f$ is $L$ smooth if its gradint is Lipshitz continuous:\n",
    "\n",
    "$$\\| \\nabla f(x) - \\nabla f(y) \\| \\leq L \\|x - y\\|$$\n",
    "\n",
    "$\\textbf{Lemma 1}$ If $f$ is $L$ smooth then\n",
    "$$\n",
    "\\begin{array}{c}\n",
    "{f\\left(x-\\frac{1}{L} \\nabla f(x)\\right)-f(x) \\leq-\\frac{1}{2 L}\\|\\nabla f(x)\\|_{2}^{2}} \\\\\n",
    "\\end{array}\n",
    "$$\n",
    "and\n",
    "$$\n",
    " f\\left(x^{*}\\right)-f(x) \\leq-\\frac{1}{2 L}\\|\\nabla f(x)\\|_{2}^{2}\n",
    "$$\n",
    "proof:\n",
    "The first inequality follows by inserting $y = x - \\frac{1}{L} \\nabla f(x)$ in the definition of the smoothness:\n",
    "$$\n",
    "\\begin{aligned}\n",
    "f\\left(x-\\frac{1}{L} \\nabla f(x)\\right) & \\leq f(x)-\\frac{1}{L}\\langle\\nabla f(x), \\nabla f(x)\\rangle+\\frac{L}{2}\\left\\|\\frac{1}{L} \\nabla f(x)\\right\\|_{2}^{2} \\\\\n",
    "&=f(x)-\\frac{1}{2 L}\\|\\nabla f(x)\\|_{2}^{2}\n",
    "\\end{aligned}\n",
    "$$\n",
    "Furthermore by using the proved inequality with $f(x^*) \\leq f(y)$, $\\forall y$, we get:\n",
    "$$\n",
    "f\\left(x^{*}\\right)-f(x) \\leq f\\left(x-\\frac{1}{L} \\nabla f(x)\\right)-f(x) \\leq-\\frac{1}{2 L}\\|\\nabla f(x)\\|_{2}^{2}\n",
    "$$\n"
   ]
  },
  {
   "cell_type": "markdown",
   "metadata": {},
   "source": [
    "**Proof of convergence of Stochastic Gradient Descent**\n",
    "\n",
    "Suppose that the  function $f$ is $L$ -smooth and $\\mu$ -strongly convex. From a given $x_{0} \\in \\mathbb{R}^{d}$ and $\\frac{1}{L} \\geq \\gamma>0$ we have that the iterates\n",
    "\\begin{equation}\n",
    "x^{t+1} = x^{t}-\\gamma \\nabla f\\left(x^{t}\\right)\n",
    "\\end{equation}\n",
    "converge according to\n",
    "\\begin{equation}\n",
    "\\left\\|x^{t+1}-x^{*}\\right\\|_{2}^{2} \\leq(1-\\gamma \\mu)^{t+1}\\left\\| x^{0}-x^{*} \\right\\|_{2}^{2}\n",
    "\\end{equation}\n",
    "In particular, or\n",
    "$\\gamma=\\frac{1}{L}$ the iterates enjoy a linear convergence with a rate of $\\mu / L$. \n",
    "\n",
    "\n",
    "$\\textbf{Proof}$: Starting from the definition of the algorithm we have that\n",
    "\\begin{aligned}\n",
    "\\left\\|x^{t+1}-x^{*}\\right\\|_{2}^{2} &=\\left\\|x^{t}-x^{*}-\\gamma \\nabla f\\left(x^{t}\\right)\\right\\|_{2}^{2} \\\\\n",
    "&=\\left\\|x^{t}-x^{*}\\right\\|_{2}^{2}-2 \\gamma\\left\\langle\\nabla f\\left(x^{t}\\right), x^{t}-x^{*}\\right\\rangle+\\gamma^{2}\\left\\|\\nabla f\\left(x^{t}\\right)\\right\\|_{2}^{2} \\\\\n",
    "& \\leq(1-\\gamma \\mu)\\left\\|x^{t}-x^{*}\\right\\|_{2}^{2}-2 \\gamma\\left(f\\left(x^{t}\\right)-f\\left(x^{*}\\right)\\right)+\\gamma^{2}\\left\\|\\nabla f\\left(x^{t}\\right)\\right\\|_{2}^{2} \\\\\n",
    "& \\leq(1-\\gamma \\mu)\\left\\|x^{t}-x^{*}\\right\\|_{2}^{2}-2 \\gamma\\left(f\\left(x^{t}\\right)-f\\left(x^{*}\\right)\\right)+2 \\gamma^{2} L\\left(f\\left(x^{t}\\right)-f\\left(x^{*}\\right)\\right.\\\\\n",
    "&=(1-\\gamma \\mu)\\left\\|x^{t}-x^{*}\\right\\|_{2}^{2}-2 \\gamma(1-\\gamma L)\\left(f\\left(x^{t}\\right)-f\\left(x^{*}\\right)\\right)\n",
    "\\end{aligned}\n",
    "\n",
    "For the first inequality we used the definition of $\\mu$-strong convexity, and for the second we Lemma1.\n",
    "\n",
    "\n",
    "Since $\\frac{1}{L} \\geq \\gamma$ we have that $-2 \\gamma(1-\\gamma L)$ is negative, and can therefore be removed to give\n",
    "\\begin{equation}\n",
    "\\left\\|x^{t+1}-x^{*}\\right\\|_{2}^{2} \\leq(1-\\gamma \\mu)\\left\\|x^{t}-x^{*}\\right\\|_{2}^{2}\n",
    "\\end{equation}\n",
    "By following the recurrence we get the result we wanted to proof.\n"
   ]
  },
  {
   "cell_type": "markdown",
   "metadata": {},
   "source": [
    "**Proof of convergence of Stochastic Gradient Descent**\n",
    "\n",
    "We call the stochastic gradient $g_k$, which is used in the update rule for the SGD algorithm.\n",
    "We have that $f(x)$ is $\\mu$-strongly convex, and assume that $\\mathbb{E}\\left(\\left\\|g_{k}\\right\\|^{2}\\right) \\leq G^{2}$.\n",
    "\n",
    "Thus there is a $\\mu > 0$ such that\n",
    "\\begin{equation}\n",
    "f(x)-f(y) \\geq\\langle\\nabla f(y), x-y\\rangle+\\frac{l}{2}\\|x-y\\|^{2}\n",
    "\\end{equation}\n",
    "For the steplength $\\gamma_{k}=\\frac{1}{l k}$ (which corresponds to the one used in the implementation) we have\n",
    "\\begin{equation}\n",
    "\\mathbb{E}\\left(\\left\\|x_{k}-x^{*}\\right\\|^{2}\\right) \\leq \\frac{\\max \\left\\{\\left\\|x_{1}-x^{*}\\right\\|^{2}, G^{2} / l^{2}\\right\\}}{k}\n",
    "\\end{equation}\n",
    "where $x^{*}$ is the optimal solution to the minimization problem.\n",
    "\n",
    "\n",
    "Proof: From the strong convexity, we have\n",
    "\n",
    "\\begin{array}{l}\n",
    "{f\\left(x^{*}\\right)-f\\left(x_{k}\\right) \\geq\\left\\langle\\nabla f\\left(x_{k}\\right), x^{*}-x_{k}\\right\\rangle+\\frac{l}{2}\\left\\|x_{k}-x^{*}\\right\\|^{2}} \\\\\n",
    "{f\\left(x_{k}\\right)-f\\left(x^{*}\\right) \\geq\\left\\langle\\nabla f\\left(x^{*}\\right), x_{k}-x^{*}\\right\\rangle+\\frac{l}{2}\\left\\|x_{k}-x^{*}\\right\\|^{2}}\n",
    "\\end{array}\n",
    "\n",
    "\n",
    "By summarizing the inequalities we get\n",
    "\\begin{equation}\n",
    "\\left\\langle\\nabla f\\left(x_{k}\\right)-\\nabla f\\left(x^{*}\\right), x_{k}-x^{*}\\right\\rangle=\\left\\langle\\nabla f\\left(x_{k}\\right), x_{k}-x^{*}\\right\\rangle \\geq l\\left\\|x_{k}-x^{*}\\right\\|^{2}\n",
    "\\end{equation}\n",
    "\n",
    "We have\n",
    "\n",
    "\\begin{aligned}\n",
    "\\mathbb{E}\\left(\\left\\|x_{k+1}-x^{*}\\right\\|^{2}\\right) &=\\mathbb{E}\\left(\\left\\|x_{k}-\\gamma_{k} g_{k}-x^{*}\\right\\|^{2}\\right) \\\\\n",
    "&=\\mathbb{E}\\left(\\left\\|x_{k}-x^{*}\\right\\|^{2}\\right)-2 \\gamma_{k} \\mathbb{E}\\left\\langle g_{k}, x_{k}-x^{*}\\right\\rangle+\\gamma_{k}^{2} \\mathbb{E}\\left(\\left\\|g_{k}\\right\\|^{2}\\right) \\\\\n",
    "& \\leq \\mathbb{E}\\left(\\left\\|x_{k}-x^{*}\\right\\|^{2}\\right)-2 \\gamma_{k} \\mathbb{E}\\left\\langle\\nabla f\\left(x_{k}\\right), x_{k}-x^{*}\\right\\rangle+\\gamma_{k}^{2} G^{2}\n",
    "\\end{aligned}\n",
    "\n",
    "\n",
    "By applying the summarized inequalities above we get\n",
    "\\begin{equation}\n",
    "\\mathbb{E}\\left(\\left\\|x_{k+1}-x^{*}\\right\\|^{2}\\right) \\leq \\mathbb{E}\\left(\\left\\|x_{k}-x^{*}\\right\\|^{2}\\right)-2 l \\gamma_{k} \\mathbb{E}\\left(\\left\\|x_{k}-x^{*}\\right\\|^{2}\\right)+\\gamma_{k}^{2} G^{2} \\\\\n",
    "=\\left(1-2 l \\gamma_{k}\\right) \\mathbb{E}\\left(\\left\\|x_{k}-x^{*}\\right\\|^{2}\\right)+\\gamma_{k}^{2} G^{2}\n",
    "\\end{equation}\n",
    "\n",
    "We prove the convergence rate by induction. First we note that\n",
    "\\begin{equation}\n",
    "\\left\\|x_{1}-x^{*}\\right\\|^{2} \\leq \\frac{\\max \\left\\{\\left\\|x_{1}-x^{*}\\right\\|^{2}, G^{2} / l^{2}\\right\\}}{1}\n",
    "\\end{equation}\n",
    "\n",
    "Then we assume that the convergence rate holds with $k .$ Next we only need to show that it holds with $k+1 .$ Denote $L=\\max \\left\\|x_{1}-x^{*}\\right\\|^{2}, G^{2} / l^{2} .$ From the result above we have\n",
    "\\[\n",
    "\\begin{aligned}\n",
    "\\mathbb{E}\\left(\\left\\|x_{k+1}-x^{*}\\right\\|^{2}\\right) & \\leq\\left(1-\\frac{2}{k}\\right) \\mathbb{E}\\left(\\left\\|x_{k}-x^{*}\\right\\|^{2}\\right)+\\frac{1}{l^{2} k^{2}} G^{2} \\\\\n",
    "& \\leq\\left(1-\\frac{2}{k}\\right) \\frac{L}{k}+\\frac{1}{l^{2} k^{2}} G^{2} \\\\\n",
    "& \\leq\\left(\\frac{1}{k}-\\frac{2}{k^{2}}\\right) L+\\frac{L}{k^{2}} \\\\\n",
    "& \\leq\\left(\\frac{1}{k}-\\frac{1}{k^{2}}\\right) L \\\\\n",
    "& \\leq \\frac{L}{k+1}\n",
    "\\end{aligned}\n",
    "\n",
    "Thus the convergence is proved."
   ]
  },
  {
   "cell_type": "markdown",
   "metadata": {},
   "source": [
    "**Result about convergence of SAGA**\n",
    "\n",
    "The proximal operator\n",
    "$ prox_{\\gamma}^h(y) = argmin(h(x)+\\frac{1}{2\\gamma}|x-y|^2) $\n",
    "and stepsize of $ \\gamma = \\frac{1}{2(\\mu n + L)} $ lead to\n",
    "$$\\mathrm{E}\\left[\\left\\|x^{k}-x^{*}\\right\\|^{2}\\right] \\leq\\left(1-\\frac{\\mu}{2\\left(\\mu^{n}+L\\right)}\\right)^{k}\\left[\\left\\|x^{0}-x^{*}\\right\\|^{2}+\\frac{n}{\\mu n+L}\\left[f\\left(x^{0}\\right)-\\left\\langle f^{\\prime}\\left(x^{*}\\right), x^{0}-x^{*}\\right\\rangle- f\\left(x^{*}\\right)\\right]\\right]$$\n",
    "This result comes as a corollary from the following results.\n"
   ]
  },
  {
   "cell_type": "markdown",
   "metadata": {},
   "source": [
    "$\\textbf{Lemma 2}$. Let $f(x)=\\frac{1}{n} \\sum_{i=1}^{n} f_{i}(x)$. Suppose each $f_{i}$ is $\\mu$ -strongly comvex and has Lipschitz\n",
    "continuous gradients with constant $L$. Then for all $x$ and $x^{*}$ :\n",
    "$$\n",
    "\\left\\langle f^{\\prime}(x), x^{*}-x\\right\\rangle \\leq \\frac{L-\\mu}{L}\\left[f\\left(x^{*}\\right)-f(x)\\right]-\\frac{\\mu}{2}\\left\\|x^{*}-x\\right\\|^{2} -\\frac{1}{2 L n} \\sum_{i}\\left\\|f_{i}^{\\prime}\\left(x^{*}\\right)-f_{i}^{\\prime}(x)\\right\\|^{2}-\\frac{\\mu}{L}\\left\\langle f^{\\prime}\\left(x^{*}\\right), x-x^{*}\\right\\rangle\n",
    "$$\n"
   ]
  },
  {
   "cell_type": "markdown",
   "metadata": {},
   "source": [
    "$\\textbf{Lemma 3}$. We have that for all $\\phi_{i}$ and $x^{*}$ :\n",
    "$$\n",
    "\\frac{1}{n} \\sum_{i}\\left\\|f_{i}^{\\prime}\\left(\\phi_{i}\\right)-f_{i}^{\\prime}\\left(x^{*}\\right)\\right\\|^{2} \\leq 2 L\\left[\\frac{1}{n} \\sum_{i} f_{i}\\left(\\phi_{i}\\right)-f\\left(x^{*}\\right)-\\frac{1}{n} \\sum_{i}\\left\\langle f_{i}^{\\prime}\\left(x^{*}\\right), \\phi_{i}-x^{*}\\right\\rangle\\right]\n",
    "$$"
   ]
  },
  {
   "cell_type": "markdown",
   "metadata": {},
   "source": [
    "$\\textbf{Lemma 4}$. It holds that for any $\\phi_{i}^{k}, x^{*}, x^{k}$ and $\\beta>0,$ with $w^{k+1}$ as defined in Equation $I:$ $\\begin{aligned} \\mathbb{E}\\left\\|w^{k+1}-x^{k}-\\gamma f^{\\prime}\\left(x^{*}\\right)\\right\\|^{2} \\leq & \\gamma^{2}\\left(1+\\beta^{-1}\\right) \\mathbb{E}\\left\\|f_{j}^{\\prime}\\left(\\phi_{j}^{k}\\right)-f_{j}^{\\prime}\\left(x^{*}\\right)\\right\\|^{2}+\\gamma^{2}(1+\\beta) \\mathbb{E}\\left\\|f_{j}^{\\prime}\\left(x^{k}\\right)-f_{j}^{\\prime}\\left(x^{*}\\right)\\right\\|^{2} \\\\ &-\\gamma^{2} \\beta\\left\\|f^{\\prime}\\left(x^{k}\\right)-f^{\\prime}\\left(x^{*}\\right)\\right\\|^{2} \\end{aligned}$"
   ]
  },
  {
   "cell_type": "markdown",
   "metadata": {},
   "source": [
    "$\\textbf{Theorem 1}$. With $x^{*}$ the optimal solution, define the Lyapunov function $T$ as:\n",
    "$$T^{k}:=T\\left(x^{k},\\left\\{\\phi_{i}^{k}\\right\\}_{i=1}^{n}\\right):=\\frac{1}{n} \\sum_{i} f_{i}\\left(\\phi_{i}^{k}\\right)-f\\left(x^{*}\\right)-\\frac{1}{n} \\sum_{i}\\left\\langle f_{i}^{\\prime}\\left(x^{*}\\right), \\phi_{i}^{k}-x^{*}\\right\\rangle+ c\\left\\|x^{k}-x^{*}\\right\\|^{2}$$\n",
    "Then with $\\gamma=\\frac{1}{2(\\alpha+n+L)}, \\quad c=\\frac{1}{2 \\gamma(1-\\gamma \\mu) n},$ and $\\kappa=\\frac{1}{\\gamma \\mu},$ we have the following expected change in the Lyapunov function between steps of the SAGA algorithm (conditional on $\\left.T^{k}\\right)$\n",
    "$$\n",
    "\\mathbb{E}\\left[T^{k+1}\\right] \\leq\\left(1-\\frac{1}{\\kappa}\\right) T^{k}\n",
    "$$"
   ]
  },
  {
   "cell_type": "markdown",
   "metadata": {},
   "source": [
    "Corollary 1. Note that $c\\left\\|x^{k}-x^{*}\\right\\|^{2} \\leq T^{k},$ and therefore by chaining the expectations, plugging in the constants explicitly and using $\\mu(n-0.5) \\leq \\mu n$ to simplify the expression, we get:\n",
    "$$\\mathrm{E}\\left[\\left\\|x^{k}-x^{*}\\right\\|^{2}\\right] \\leq\\left(1-\\frac{\\mu}{2\\left(\\mu^{n}+L\\right)}\\right)^{k}\\left[\\left\\|x^{0}-x^{*}\\right\\|^{2}+\\frac{n}{\\mu n+L}\\left[f\\left(x^{0}\\right)-\\left\\langle f^{\\prime}\\left(x^{*}\\right), x^{0}-x^{*}\\right\\rangle- f\\left(x^{*}\\right)\\right]\\right]$$"
   ]
  },
  {
   "cell_type": "markdown",
   "metadata": {},
   "source": [
    "**Result about the convergence of SVRG**\n",
    "\n",
    "$\\textbf{Theorem 1}$ Consider SVRG algorithm we implemented. Assume that all $f_{i}$ are comvex and and smooth and f(x) is $\\mu$ strongly convex.Let $x_{*}=\\arg \\min _{x} f(x)$ Assume that $m$ is sufficiently large so that\n",
    "$$\n",
    "\\alpha=\\frac{1}{\\mu \\gamma(1-2 L \\gamma) m}+\\frac{2 L \\gamma}{1-2 L \\gamma}<1\n",
    "$$\n",
    "then we have the geometrix convergence in expectation for SVRG:\n",
    "$$\\mathbb{E}\\left[P\\left(\\tilde{w}_{s}\\right)-P\\left(w_{*}\\right)\\right] \\leq \\alpha^{*} \\mathbb{E}\\left[P\\left(\\bar{w}_{0}\\right)-P\\left(w_{*}\\right)\\right]$$\n"
   ]
  },
  {
   "cell_type": "markdown",
   "metadata": {},
   "source": [
    "**Keyword ideas**: standard or stochastic Newton method, ADMM, continuation methods, tests on large scale datasets, intuition behind variance reduction, catalyst..."
   ]
  }
 ],
 "metadata": {
  "kernelspec": {
   "display_name": "Python 3",
   "language": "python",
   "name": "python3"
  },
  "language_info": {
   "codemirror_mode": {
    "name": "ipython",
    "version": 3
   },
   "file_extension": ".py",
   "mimetype": "text/x-python",
   "name": "python",
   "nbconvert_exporter": "python",
   "pygments_lexer": "ipython3",
   "version": "3.7.4"
  }
 },
 "nbformat": 4,
 "nbformat_minor": 4
}
